{
  "nbformat": 4,
  "nbformat_minor": 0,
  "metadata": {
    "colab": {
      "provenance": []
    },
    "kernelspec": {
      "name": "python3",
      "display_name": "Python 3"
    },
    "language_info": {
      "name": "python"
    },
    "accelerator": "GPU",
    "gpuClass": "standard"
  },
  "cells": [
    {
      "cell_type": "code",
      "execution_count": null,
      "metadata": {
        "id": "8dPxIRdxGcNK"
      },
      "outputs": [],
      "source": [
        "import matplotlib.pyplot as plt\n",
        "import numpy as np\n",
        "import os\n",
        "from sklearn.model_selection import train_test_split\n",
        "from keras.utils import np_utils\n",
        "from keras.models import Sequential\n",
        "from keras.layers import Dense, Activation, Dropout, Conv2D, MaxPooling2D, Flatten\n",
        "from sklearn.utils import validation\n",
        "from keras.preprocessing.image import ImageDataGenerator\n",
        "from sklearn import preprocessing\n",
        "from keras.utils import to_categorical\n",
        "from keras.models import load_model\n",
        "from keras.utils import load_img, img_to_array\n",
        "from keras.callbacks import EarlyStopping, ModelCheckpoint"
      ]
    },
    {
      "cell_type": "code",
      "source": [
        "%cd /content/drive/MyDrive/Colab Notebooks/BT/database"
      ],
      "metadata": {
        "id": "CmrKOyLyIveb",
        "colab": {
          "base_uri": "https://localhost:8080/"
        },
        "outputId": "47aed6f5-50b4-4c42-8534-c37c50766d5c"
      },
      "execution_count": null,
      "outputs": [
        {
          "output_type": "stream",
          "name": "stdout",
          "text": [
            "/content/drive/MyDrive/Colab Notebooks/BT/database\n"
          ]
        }
      ]
    },
    {
      "cell_type": "code",
      "source": [
        "train_data = ImageDataGenerator(rescale=1./255, shear_range=0.2, zoom_range=0.2, horizontal_flip=True)\n",
        "train_set = train_data.flow_from_directory('/content/drive/MyDrive/Colab Notebooks/BT/database/Training',target_size=(300,300), batch_size=32, class_mode='categorical')"
      ],
      "metadata": {
        "id": "NpVjysBdI7Wh",
        "colab": {
          "base_uri": "https://localhost:8080/"
        },
        "outputId": "bab319f0-5f2f-4e2b-f8e8-9d1cd1e16025"
      },
      "execution_count": null,
      "outputs": [
        {
          "output_type": "stream",
          "name": "stdout",
          "text": [
            "Found 500 images belonging to 10 classes.\n"
          ]
        }
      ]
    },
    {
      "cell_type": "code",
      "source": [
        "test_set = train_data.flow_from_directory('/content/drive/MyDrive/Colab Notebooks/BT/database/Test',target_size=(300,300), batch_size=32, class_mode='categorical')"
      ],
      "metadata": {
        "id": "Dd1_5q-PJjJf",
        "colab": {
          "base_uri": "https://localhost:8080/"
        },
        "outputId": "22b6c5bd-def8-4713-935f-aa310944c343"
      },
      "execution_count": null,
      "outputs": [
        {
          "output_type": "stream",
          "name": "stdout",
          "text": [
            "Found 25 images belonging to 10 classes.\n"
          ]
        }
      ]
    },
    {
      "cell_type": "code",
      "source": [
        "from google.colab import drive\n",
        "drive.mount('/content/drive')"
      ],
      "metadata": {
        "id": "dWyGYKlEZc7X",
        "colab": {
          "base_uri": "https://localhost:8080/"
        },
        "outputId": "9d7afce5-0c4b-444d-d5b9-05f50626e279"
      },
      "execution_count": null,
      "outputs": [
        {
          "output_type": "stream",
          "name": "stdout",
          "text": [
            "Drive already mounted at /content/drive; to attempt to forcibly remount, call drive.mount(\"/content/drive\", force_remount=True).\n"
          ]
        }
      ]
    },
    {
      "cell_type": "code",
      "source": [
        "train_set.class_indices"
      ],
      "metadata": {
        "id": "FVcaIdoTJo3-",
        "colab": {
          "base_uri": "https://localhost:8080/"
        },
        "outputId": "8f4ff389-b648-4bb7-9829-a096b4e84fe2"
      },
      "execution_count": null,
      "outputs": [
        {
          "output_type": "execute_result",
          "data": {
            "text/plain": [
              "{'Sáo trúc': 0,\n",
              " 'Song loan': 1,\n",
              " \"Đàn T'rưng\": 2,\n",
              " 'Đàn bầu': 3,\n",
              " 'Đàn cò': 4,\n",
              " 'Đàn nguyệt': 5,\n",
              " 'Đàn sến': 6,\n",
              " 'Đàn tranh': 7,\n",
              " 'Đàn tỳ bà': 8,\n",
              " 'Đàn đáy': 9}"
            ]
          },
          "metadata": {},
          "execution_count": 35
        }
      ]
    },
    {
      "cell_type": "code",
      "source": [
        "test_set.class_indices"
      ],
      "metadata": {
        "id": "5PhtporkJs19",
        "colab": {
          "base_uri": "https://localhost:8080/"
        },
        "outputId": "762d5768-2f79-4c58-9c30-039eb1fbf0b1"
      },
      "execution_count": null,
      "outputs": [
        {
          "output_type": "execute_result",
          "data": {
            "text/plain": [
              "{\"Da T'rung\": 0,\n",
              " 'Dan bau': 1,\n",
              " 'Dan co': 2,\n",
              " 'Dan day': 3,\n",
              " 'Dan nguyet': 4,\n",
              " 'Dan sen': 5,\n",
              " 'Dan ti ba': 6,\n",
              " 'Dan tranh': 7,\n",
              " 'Sao truc': 8,\n",
              " 'Song loan': 9}"
            ]
          },
          "metadata": {},
          "execution_count": 36
        }
      ]
    },
    {
      "cell_type": "code",
      "source": [
        "model=Sequential()\n",
        "model.add(Conv2D(32,(3,3), activation='relu', kernel_initializer='he_uniform', padding='same',input_shape=(300,300,3))) \n",
        "model.add(Conv2D(32,(3,3), activation='relu', kernel_initializer='he_uniform', padding='same'))\n",
        "model.add(MaxPooling2D(2,2))\n",
        "model.add(Conv2D(64,(3,3), activation='relu', kernel_initializer='he_uniform', padding='same',input_shape=(300,300,3))) \n",
        "model.add(Conv2D(64,(3,3), activation='relu', kernel_initializer='he_uniform', padding='same'))\n",
        "model.add(MaxPooling2D(2,2))\n",
        "model.add(Conv2D(128,(3,3), activation='relu', kernel_initializer='he_uniform', padding='same',input_shape=(300,300,3))) \n",
        "model.add(Conv2D(128,(3,3), activation='relu', kernel_initializer='he_uniform', padding='same'))\n",
        "model.add(MaxPooling2D(2,2))\n",
        "model.add(Flatten())\n",
        "model.add(Dense(128,activation='relu',kernel_initializer='he_uniform'))\n",
        "model.add(Dropout(0.2))\n",
        "model.add(Dense(10,activation='softmax'))\n",
        "model.summary()"
      ],
      "metadata": {
        "id": "7Tl-2a_4JwiF",
        "colab": {
          "base_uri": "https://localhost:8080/"
        },
        "outputId": "c97c224f-143b-4ed5-9fb5-06bfabaed654"
      },
      "execution_count": null,
      "outputs": [
        {
          "output_type": "stream",
          "name": "stdout",
          "text": [
            "Model: \"sequential_2\"\n",
            "_________________________________________________________________\n",
            " Layer (type)                Output Shape              Param #   \n",
            "=================================================================\n",
            " conv2d_12 (Conv2D)          (None, 300, 300, 32)      896       \n",
            "                                                                 \n",
            " conv2d_13 (Conv2D)          (None, 300, 300, 32)      9248      \n",
            "                                                                 \n",
            " max_pooling2d_6 (MaxPooling  (None, 150, 150, 32)     0         \n",
            " 2D)                                                             \n",
            "                                                                 \n",
            " conv2d_14 (Conv2D)          (None, 150, 150, 64)      18496     \n",
            "                                                                 \n",
            " conv2d_15 (Conv2D)          (None, 150, 150, 64)      36928     \n",
            "                                                                 \n",
            " max_pooling2d_7 (MaxPooling  (None, 75, 75, 64)       0         \n",
            " 2D)                                                             \n",
            "                                                                 \n",
            " conv2d_16 (Conv2D)          (None, 75, 75, 128)       73856     \n",
            "                                                                 \n",
            " conv2d_17 (Conv2D)          (None, 75, 75, 128)       147584    \n",
            "                                                                 \n",
            " max_pooling2d_8 (MaxPooling  (None, 37, 37, 128)      0         \n",
            " 2D)                                                             \n",
            "                                                                 \n",
            " flatten_2 (Flatten)         (None, 175232)            0         \n",
            "                                                                 \n",
            " dense_4 (Dense)             (None, 128)               22429824  \n",
            "                                                                 \n",
            " dropout_2 (Dropout)         (None, 128)               0         \n",
            "                                                                 \n",
            " dense_5 (Dense)             (None, 10)                1290      \n",
            "                                                                 \n",
            "=================================================================\n",
            "Total params: 22,718,122\n",
            "Trainable params: 22,718,122\n",
            "Non-trainable params: 0\n",
            "_________________________________________________________________\n"
          ]
        }
      ]
    },
    {
      "cell_type": "code",
      "source": [
        "# Biên dịch \n",
        "model.compile(optimizer='adam',loss='categorical_crossentropy',metrics=['accuracy'])\n",
        "model.fit(train_set,epochs=100,batch_size=128,verbose=1, validation_data=test_set, callbacks=[EarlyStopping(monitor='val_loss', patience=20)])"
      ],
      "metadata": {
        "id": "cvuOlMTOJxbZ",
        "colab": {
          "base_uri": "https://localhost:8080/"
        },
        "outputId": "a08a21b0-912e-49a4-bd15-341a2feda2d6"
      },
      "execution_count": null,
      "outputs": [
        {
          "output_type": "stream",
          "name": "stdout",
          "text": [
            "Epoch 1/100\n",
            "16/16 [==============================] - 292s 17s/step - loss: 13.7479 - accuracy: 0.0900 - val_loss: 2.3117 - val_accuracy: 0.1200\n",
            "Epoch 2/100\n",
            "16/16 [==============================] - 14s 855ms/step - loss: 2.2925 - accuracy: 0.1820 - val_loss: 2.2757 - val_accuracy: 0.0800\n",
            "Epoch 3/100\n",
            "16/16 [==============================] - 14s 854ms/step - loss: 2.2883 - accuracy: 0.1760 - val_loss: 2.2741 - val_accuracy: 0.2400\n",
            "Epoch 4/100\n",
            "16/16 [==============================] - 14s 842ms/step - loss: 2.1688 - accuracy: 0.2040 - val_loss: 2.4060 - val_accuracy: 0.0800\n",
            "Epoch 5/100\n",
            "16/16 [==============================] - 14s 840ms/step - loss: 2.0385 - accuracy: 0.2760 - val_loss: 2.6275 - val_accuracy: 0.1200\n",
            "Epoch 6/100\n",
            "16/16 [==============================] - 14s 851ms/step - loss: 2.0216 - accuracy: 0.3520 - val_loss: 1.9880 - val_accuracy: 0.2800\n",
            "Epoch 7/100\n",
            "16/16 [==============================] - 14s 836ms/step - loss: 1.9938 - accuracy: 0.2980 - val_loss: 2.4318 - val_accuracy: 0.1600\n",
            "Epoch 8/100\n",
            "16/16 [==============================] - 15s 934ms/step - loss: 1.7158 - accuracy: 0.4040 - val_loss: 3.1423 - val_accuracy: 0.0400\n",
            "Epoch 9/100\n",
            "16/16 [==============================] - 14s 866ms/step - loss: 1.4147 - accuracy: 0.5240 - val_loss: 3.3429 - val_accuracy: 0.0400\n",
            "Epoch 10/100\n",
            "16/16 [==============================] - 14s 839ms/step - loss: 1.2031 - accuracy: 0.6080 - val_loss: 3.3970 - val_accuracy: 0.0800\n",
            "Epoch 11/100\n",
            "16/16 [==============================] - 14s 871ms/step - loss: 1.0204 - accuracy: 0.6720 - val_loss: 4.5446 - val_accuracy: 0.0800\n",
            "Epoch 12/100\n",
            "16/16 [==============================] - 14s 851ms/step - loss: 0.8071 - accuracy: 0.7440 - val_loss: 5.3998 - val_accuracy: 0.0400\n",
            "Epoch 13/100\n",
            "16/16 [==============================] - 14s 844ms/step - loss: 0.7061 - accuracy: 0.7820 - val_loss: 4.9792 - val_accuracy: 0.0000e+00\n",
            "Epoch 14/100\n",
            "16/16 [==============================] - 14s 841ms/step - loss: 0.6937 - accuracy: 0.7900 - val_loss: 6.0196 - val_accuracy: 0.0000e+00\n",
            "Epoch 15/100\n",
            "16/16 [==============================] - 14s 874ms/step - loss: 0.4932 - accuracy: 0.8440 - val_loss: 6.6938 - val_accuracy: 0.1200\n",
            "Epoch 16/100\n",
            "16/16 [==============================] - 14s 832ms/step - loss: 0.4273 - accuracy: 0.8600 - val_loss: 5.9389 - val_accuracy: 0.0800\n",
            "Epoch 17/100\n",
            "16/16 [==============================] - 14s 841ms/step - loss: 0.4731 - accuracy: 0.8520 - val_loss: 7.0467 - val_accuracy: 0.0400\n",
            "Epoch 18/100\n",
            "16/16 [==============================] - 14s 842ms/step - loss: 0.3591 - accuracy: 0.8700 - val_loss: 7.4217 - val_accuracy: 0.0800\n",
            "Epoch 19/100\n",
            "16/16 [==============================] - 14s 847ms/step - loss: 0.3404 - accuracy: 0.9100 - val_loss: 5.3713 - val_accuracy: 0.1200\n",
            "Epoch 20/100\n",
            "16/16 [==============================] - 14s 848ms/step - loss: 0.2900 - accuracy: 0.9040 - val_loss: 6.8373 - val_accuracy: 0.0800\n",
            "Epoch 21/100\n",
            "16/16 [==============================] - 14s 849ms/step - loss: 0.2053 - accuracy: 0.9400 - val_loss: 8.0805 - val_accuracy: 0.0800\n",
            "Epoch 22/100\n",
            "16/16 [==============================] - 14s 849ms/step - loss: 0.3283 - accuracy: 0.9020 - val_loss: 6.4838 - val_accuracy: 0.0800\n",
            "Epoch 23/100\n",
            "16/16 [==============================] - 14s 835ms/step - loss: 0.3155 - accuracy: 0.9140 - val_loss: 7.7946 - val_accuracy: 0.0800\n",
            "Epoch 24/100\n",
            "16/16 [==============================] - 14s 841ms/step - loss: 0.1683 - accuracy: 0.9420 - val_loss: 7.0719 - val_accuracy: 0.1600\n",
            "Epoch 25/100\n",
            "16/16 [==============================] - 14s 836ms/step - loss: 0.1937 - accuracy: 0.9380 - val_loss: 9.8975 - val_accuracy: 0.1200\n",
            "Epoch 26/100\n",
            "16/16 [==============================] - 15s 922ms/step - loss: 0.2388 - accuracy: 0.9340 - val_loss: 7.5384 - val_accuracy: 0.0800\n"
          ]
        },
        {
          "output_type": "execute_result",
          "data": {
            "text/plain": [
              "<keras.callbacks.History at 0x7f089bc465b0>"
            ]
          },
          "metadata": {},
          "execution_count": 24
        }
      ]
    },
    {
      "cell_type": "code",
      "source": [
        "model.save('/content/drive/MyDrive/Colab Notebooks/BTVN/Rice/Nhan_dang.h5')"
      ],
      "metadata": {
        "id": "U7FsuxxhJ6PQ"
      },
      "execution_count": null,
      "outputs": []
    },
    {
      "cell_type": "code",
      "source": [
        "model_gao = load_model('/content/drive/MyDrive/Colab Notebooks/BTVN/Rice/Nhan_dang.h5')"
      ],
      "metadata": {
        "id": "dAeAKREXJ_UG"
      },
      "execution_count": null,
      "outputs": []
    },
    {
      "cell_type": "code",
      "source": [
        "Score=model.evaluate(train_set,verbose=0)\n",
        "print('Train Loss', Score[0])\n",
        "print('Train Accuracy', Score[1])"
      ],
      "metadata": {
        "id": "gS1rocL-KByi",
        "colab": {
          "base_uri": "https://localhost:8080/"
        },
        "outputId": "ca3ac0e8-601f-4fc3-9b60-077510c553d4"
      },
      "execution_count": null,
      "outputs": [
        {
          "output_type": "stream",
          "name": "stdout",
          "text": [
            "Train Loss 0.14820058643817902\n",
            "Train Accuracy 0.9620000123977661\n"
          ]
        }
      ]
    },
    {
      "cell_type": "code",
      "source": [
        "test='/content/drive/MyDrive/Colab Notebooks/BT/database/Test/Dan bau/191030-Danbau1.jpg'\n",
        "for i in os.listdir(test):\n",
        "  img=load_img(test+'/'+i,target_size=(300,300))\n",
        "  plt.imshow(img)\n",
        "  img=img_to_array(img)\n",
        "  img=img.astype('float32')\n",
        "  img=img/255\n",
        "  img=np.expand_dims(img,axis=0)\n",
        "  result=model_gao.predict(img)\n",
        "      if round(result[0][0]) == 1:\n",
        "        prediction = 'Sao truc'\n",
        "    if round(result[0][1]) == 1:\n",
        "        prediction = 'Song loan'\n",
        "    if round(result[0][2]) == 1:\n",
        "        prediction = \"Da T'rung\"\n",
        "    if round(result[0][3]) == 1:\n",
        "        prediction = 'Dan bau'\n",
        "    if round(result[0][4]) == 1:\n",
        "        prediction = 'Dan co'\n",
        "    if round(result[0][5]) == 1:\n",
        "        prediction = 'Dan nguyet'\n",
        "    if round(result[0][6]) == 1:\n",
        "        prediction = 'Dan sen'\n",
        "    if round(result[0][7]) == 1:\n",
        "        prediction = 'Dan tranh'\n",
        "    if round(result[0][8]) == 1:\n",
        "        prediction = 'Dan ti ba'\n",
        "    if round(result[0][9]) == 1:\n",
        "        prediction = 'Dan day'\n",
        "  print(prediction)\n",
        "  plt.show()"
      ],
      "metadata": {
        "id": "6aLQ77akKCc8"
      },
      "execution_count": null,
      "outputs": []
    }
  ]
}